{
 "cells": [
  {
   "cell_type": "markdown",
   "metadata": {},
   "source": [
    "## Libraries"
   ]
  },
  {
   "cell_type": "code",
   "execution_count": 1,
   "metadata": {},
   "outputs": [],
   "source": [
    "import geopandas as gpd\n",
    "import pandas as pd\n",
    "from timeit import timeit\n",
    "from tkinter import NE\n",
    "import pytest\n",
    "import multiprocessing \n",
    "import numpy as np\n",
    "from multiprocessing import Pool\n",
    "import random\n",
    "from functools import reduce\n",
    "import time\n",
    "from shapely.geometry import Point, Polygon\n",
    "from sentinelhub import *\n",
    "import os\n",
    "import json\n",
    "from functools import wraps\n",
    "import pytest\n",
    "import unittest\n",
    "from unittest import mock\n",
    "from unittest.mock import patch\n",
    "from faker import Faker\n",
    "import datetime as dt\n",
    "import matplotlib.pyplot as plt\n",
    "import re\n",
    "import shutil, tempfile\n",
    "from os import path\n",
    "import unittest\n",
    "import inspect"
   ]
  },
  {
   "cell_type": "code",
   "execution_count": 174,
   "metadata": {},
   "outputs": [],
   "source": [
    "import sys\n",
    "import os\n",
    "\n",
    "module_path = os.path.abspath(os.path.join('..'))\n",
    "if module_path not in sys.path:\n",
    "    sys.path.append(module_path+\"/src/data\")"
   ]
  },
  {
   "cell_type": "code",
   "execution_count": 4,
   "metadata": {},
   "outputs": [],
   "source": [
    "import get_rs_data"
   ]
  },
  {
   "cell_type": "markdown",
   "metadata": {},
   "source": [
    "Let us first do unit testing on the config file"
   ]
  },
  {
   "cell_type": "code",
   "execution_count": 5,
   "metadata": {},
   "outputs": [],
   "source": [
    "def test_config_type():\n",
    "    assert isinstance(get_rs_data.get_config(),SHConfig)==True  "
   ]
  },
  {
   "cell_type": "markdown",
   "metadata": {},
   "source": [
    "This is the unit test for our get_config function where we test if the returned type of the object is SHConfig"
   ]
  },
  {
   "cell_type": "markdown",
   "metadata": {},
   "source": [
    "#### Function to generate random coordinates"
   ]
  },
  {
   "cell_type": "code",
   "execution_count": 5,
   "metadata": {},
   "outputs": [],
   "source": [
    "def generate_coor(n,is_seed):\n",
    "    x=[]\n",
    "    lat_lng=[]\n",
    "    n=5\n",
    "    if is_seed:\n",
    "        Faker.seed(0)\n",
    "        fake=Faker()\n",
    "        for _ in range(n):\n",
    "            temp=tuple()\n",
    "            for value in fake.latlng():\n",
    "                temp=temp + ((float(value)),)\n",
    "            x.append(temp)\n",
    "    else:\n",
    "        fake=Faker()\n",
    "        for _ in range(n):\n",
    "            temp=tuple()\n",
    "            for value in fake.latlng():\n",
    "                temp=temp + ((float(value)),)\n",
    "            x.append(temp)\n",
    "    return x"
   ]
  },
  {
   "cell_type": "markdown",
   "metadata": {},
   "source": [
    "Let us move to unit testing the min_max coordinate function. We first check if the length of the returned value is 4"
   ]
  },
  {
   "cell_type": "code",
   "execution_count": 6,
   "metadata": {},
   "outputs": [],
   "source": [
    "def test_min_max_len():\n",
    "    x=generate_coor(n=5,is_seed=True)\n",
    "    assert len(get_rs_data.get_min_max(x))==4\n",
    "test_min_max_len()"
   ]
  },
  {
   "cell_type": "markdown",
   "metadata": {},
   "source": [
    "Then, we check if the data type of the output is a list"
   ]
  },
  {
   "cell_type": "code",
   "execution_count": 7,
   "metadata": {},
   "outputs": [],
   "source": [
    "def test_min_max_type():\n",
    "    x=generate_coor(n=5,is_seed=True)\n",
    "    assert isinstance(get_rs_data.get_min_max(x),list)==True"
   ]
  },
  {
   "cell_type": "markdown",
   "metadata": {},
   "source": [
    "This is our expected output based on the seeded coordinate"
   ]
  },
  {
   "cell_type": "code",
   "execution_count": 8,
   "metadata": {},
   "outputs": [],
   "source": [
    "def test_min_max_value():\n",
    "    x=generate_coor(n=5,is_seed=True)\n",
    "    assert get_rs_data.get_min_max(x)==[-79.132557, -40.995129, 47.244262, 80.880444]\n",
    "test_min_max_value()"
   ]
  },
  {
   "cell_type": "markdown",
   "metadata": {},
   "source": [
    "We should not input any empty list as the argument so we are testing if our function actually throws a exception"
   ]
  },
  {
   "cell_type": "code",
   "execution_count": 9,
   "metadata": {},
   "outputs": [],
   "source": [
    "def test_min_max_empty():\n",
    "    with pytest.raises(Exception) as excinfo:\n",
    "        get_rs_data.get_min_max([])\n",
    "    assert str(excinfo.value)==\"Sorry, Coordinate is empty!\"\n",
    "         \n",
    "test_min_max_empty()"
   ]
  },
  {
   "cell_type": "markdown",
   "metadata": {},
   "source": [
    "These are the unit tests for get_min_max functions"
   ]
  },
  {
   "cell_type": "markdown",
   "metadata": {},
   "source": [
    "Now, we move on to develop a function that creates a geopandas dataframe which mimickes what we expect from Quartersection shape file"
   ]
  },
  {
   "cell_type": "markdown",
   "metadata": {},
   "source": [
    "#### function to generate geopandas dataframe"
   ]
  },
  {
   "cell_type": "code",
   "execution_count": 10,
   "metadata": {},
   "outputs": [],
   "source": [
    "def create_gdf(PPID,EFFDT,FEATURECD,QSECT,PSECTPPID,PSECT,PTWP,PRGE,PMER,geo):\n",
    "    gdf = gpd.GeoDataFrame(\n",
    "    {'PPID': PPID,\n",
    "     'EFFDT': EFFDT,\n",
    "     'FEATURECD':FEATURECD,\n",
    "     'QSECT':QSECT,\n",
    "     'PSECTPPID':PSECTPPID,\n",
    "     'PSECT':PSECT,\n",
    "     'PTWP':PTWP,\n",
    "     'PRGE':PRGE,\n",
    "     'PMER':PMER,\n",
    "     'geometry':geo})\n",
    "    gdf=gdf.set_crs(epsg=4326)\n",
    "    return gdf\n",
    "\n",
    "x=create_gdf([\"0108002F12\"],[\"20070209\"],[\"THEORETIC\"],\t[\"NE\"],[\"0110006APD\"],[\"28\"],[\"68\"],[\"O7\"],[\"02\"],Polygon([(628293.35, 6087188.3100000005),\n",
    " (627891.065, 6087176.805),\n",
    " (627488.78, 6087165.3),\n",
    " (627477.36, 6087567.365),\n",
    " (627465.94, 6087969.43),\n",
    " (627868.15, 6087980.9350000005),\n",
    " (628270.36, 6087992.4399999995),\n",
    " (628281.855, 6087590.375),\n",
    " (628293.35, 6087188.3100000005)]))"
   ]
  },
  {
   "cell_type": "markdown",
   "metadata": {},
   "source": [
    "This is a unit test to check if the columns were inputed correctly"
   ]
  },
  {
   "cell_type": "code",
   "execution_count": 11,
   "metadata": {},
   "outputs": [],
   "source": [
    "def test_create_gdf_col():\n",
    "    loc_gdf=create_gdf([],[],[],[],[],[],[],[],[],[])\n",
    "    assert list(loc_gdf.columns)==['PPID','EFFDT','FEATURECD','QSECT','PSECTPPID','PSECT','PTWP', 'PRGE','PMER','geometry']\n",
    "    \n",
    "test_create_gdf_col()"
   ]
  },
  {
   "cell_type": "code",
   "execution_count": 12,
   "metadata": {},
   "outputs": [
    {
     "name": "stdout",
     "output_type": "stream",
     "text": [
      "Sorry, Dataframe is empty!\n"
     ]
    }
   ],
   "source": [
    "def test_get_boundary_box_empty_gpd():\n",
    "    with pytest.raises(Exception) as excinfo:\n",
    "        get_rs_data.get_boundary_box(None,None,None,None,None,None,x)\n",
    "    print(str(excinfo.value))\n",
    "    assert str(excinfo.value)==\"Sorry, Dataframe is empty!\"\n",
    "    \n",
    "test_get_boundary_box_empty_gpd()"
   ]
  },
  {
   "cell_type": "code",
   "execution_count": 13,
   "metadata": {},
   "outputs": [],
   "source": [
    "def test_get_boundary_box_temp_type():\n",
    "    assert isinstance(get_rs_data.get_boundary_box(\"NE\",\"28\",\"68\",\"O7\",\"02\",None,gdf=x),list)==True\n",
    "test_get_boundary_box_temp_type()"
   ]
  },
  {
   "cell_type": "code",
   "execution_count": 14,
   "metadata": {},
   "outputs": [],
   "source": [
    "def test_get_boundary_box_temp_len():\n",
    "    assert len(get_rs_data.get_boundary_box(\"NE\",\"28\",\"68\",\"O7\",\"02\",None,gdf=x))==4\n",
    "test_get_boundary_box_temp_len()"
   ]
  },
  {
   "cell_type": "code",
   "execution_count": 15,
   "metadata": {},
   "outputs": [],
   "source": [
    "def test_get_boundary_box_temp_value():\n",
    "    assert get_rs_data.get_boundary_box(\"NE\",\"28\",\"68\",\"O7\",\"02\",None,gdf=x)==[627465.94, 6087165.3, 628293.35, 6087992.4399999995]\n",
    "test_get_boundary_box_temp_value()"
   ]
  },
  {
   "cell_type": "markdown",
   "metadata": {},
   "source": [
    "We start unit testing our save data function by first checking if the temporary mocked path actually exists"
   ]
  },
  {
   "cell_type": "code",
   "execution_count": 152,
   "metadata": {},
   "outputs": [],
   "source": [
    "import shutil, tempfile\n",
    "from os import path\n",
    "import unittest\n",
    "\n",
    "def test_mock_check_path():\n",
    "    test_dir=tempfile.mkdtemp(prefix=\"save_data\")\n",
    "    print(test_dir)\n",
    "    assert os.path.exists(test_dir)==True\n",
    "    shutil.rmtree(test_dir, ignore_errors=False, onerror=None)"
   ]
  },
  {
   "cell_type": "markdown",
   "metadata": {},
   "source": [
    "We then proceed for checking outputs of the functions. First, we check if any sort of data has been saved at all"
   ]
  },
  {
   "cell_type": "code",
   "execution_count": 106,
   "metadata": {},
   "outputs": [
    {
     "name": "stdout",
     "output_type": "stream",
     "text": [
      "/tmp/save_datak6py20f_\n",
      "539\n"
     ]
    }
   ],
   "source": [
    "def test_mock_check_file_NDTI():\n",
    "    test_dir=tempfile.mkdtemp(prefix=\"save_data\")\n",
    "    print(test_dir)\n",
    "    get_rs_data.save_sh_LETM2_data(get_rs_data.save_LETM2_data(layer='NDTI',bbox=[-103.01106517317754,54.915193167235394,-102.99851132434331,54.92242167192495],start_date=\"2002-01-01\",end_date=\"2021-12-31\",output_folder=test_dir,config=get_rs_data.get_config()))\n",
    "    print(len(os.listdir(test_dir)))\n",
    "    x=len(os.listdir(test_dir)) > 0\n",
    "    shutil.rmtree(test_dir, ignore_errors=False, onerror=None)\n",
    "    assert x==True"
   ]
  },
  {
   "cell_type": "markdown",
   "metadata": {},
   "source": [
    "We then check if the json files are there or not"
   ]
  },
  {
   "cell_type": "code",
   "execution_count": 211,
   "metadata": {},
   "outputs": [
    {
     "name": "stdout",
     "output_type": "stream",
     "text": [
      "/tmp/save_data6lbm4p32\n",
      "539\n"
     ]
    }
   ],
   "source": [
    "def test_mock_check_file_type_json_NDTI():\n",
    "    test_dir=tempfile.mkdtemp(prefix=\"save_data\")\n",
    "    print(test_dir)\n",
    "    get_rs_data.save_sh_LETM2_data(get_rs_data.save_LETM2_data(layer='NDTI',bbox=[-103.01106517317754,54.915193167235394,-102.99851132434331,54.92242167192495],start_date=\"2002-01-01\",end_date=\"2021-12-31\",output_folder=test_dir,config=get_rs_data.get_config()))\n",
    "    print(len(os.listdir(test_dir)))\n",
    "    x=False\n",
    "    for folder,subfolders,files in os.walk(test_dir):\n",
    "        for f in files:\n",
    "            if f.endswith(\".json\"):\n",
    "                x=True\n",
    "                break\n",
    "    shutil.rmtree(test_dir, ignore_errors=False, onerror=None)\n",
    "    assert x==True\n",
    "test_mock_check_file_type_json_NDTI()"
   ]
  },
  {
   "cell_type": "markdown",
   "metadata": {},
   "source": [
    "Finally, we check if the image output is there"
   ]
  },
  {
   "cell_type": "code",
   "execution_count": 58,
   "metadata": {},
   "outputs": [
    {
     "name": "stdout",
     "output_type": "stream",
     "text": [
      "/tmp/save_datab_p365_k\n",
      "539\n"
     ]
    }
   ],
   "source": [
    "def test_mock_check_file_type_tiff_NDTI():\n",
    "    test_dir=tempfile.mkdtemp(prefix=\"save_data\")\n",
    "    print(test_dir)\n",
    "    get_rs_data.save_sh_LETM2_data(get_rs_data.save_LETM2_data(layer='NDTI',bbox=[-103.01106517317754,54.915193167235394,-102.99851132434331,54.92242167192495],start_date=\"2002-01-01\",end_date=\"2021-12-31\",output_folder=test_dir,config=get_rs_data.get_config()))\n",
    "    print(len(os.listdir(test_dir)))\n",
    "    x=False\n",
    "    for folder,subfolders,files in os.walk(test_dir):\n",
    "        for f in files:\n",
    "            if f.endswith(\".tiff\"):\n",
    "                x=True\n",
    "                break\n",
    "    shutil.rmtree(test_dir, ignore_errors=False, onerror=None)\n",
    "    assert x==True\n",
    "test_mock_check_file_type_tiff_NDTI()"
   ]
  },
  {
   "cell_type": "markdown",
   "metadata": {},
   "source": [
    "We do the same for layer NDVI"
   ]
  },
  {
   "cell_type": "code",
   "execution_count": 107,
   "metadata": {},
   "outputs": [
    {
     "name": "stdout",
     "output_type": "stream",
     "text": [
      "/tmp/save_dataksulhwz2\n",
      "539\n"
     ]
    }
   ],
   "source": [
    "def test_mock_check_file_NDVI():\n",
    "    test_dir=tempfile.mkdtemp(prefix=\"save_data\")\n",
    "    print(test_dir)\n",
    "    get_rs_data.save_sh_LETM2_data(get_rs_data.save_LETM2_data(layer='NDVI',bbox=[-103.01106517317754,54.915193167235394,-102.99851132434331,54.92242167192495],start_date=\"2002-01-01\",end_date=\"2021-12-31\",output_folder=test_dir,config=get_rs_data.get_config()))\n",
    "    print(len(os.listdir(test_dir)))\n",
    "    x=len(os.listdir(test_dir)) > 0\n",
    "    shutil.rmtree(test_dir, ignore_errors=False, onerror=None)\n",
    "    assert x==True\n",
    "test_mock_check_file_NDVI()"
   ]
  },
  {
   "cell_type": "code",
   "execution_count": 153,
   "metadata": {},
   "outputs": [
    {
     "name": "stdout",
     "output_type": "stream",
     "text": [
      "/tmp/save_dataj93vcv1c\n",
      "539\n"
     ]
    }
   ],
   "source": [
    "def test_mock_check_file_type_json_NDVI():\n",
    "    test_dir=tempfile.mkdtemp(prefix=\"save_data\")\n",
    "    print(test_dir)\n",
    "    get_rs_data.save_sh_LETM2_data(get_rs_data.save_LETM2_data(layer='NDVI',bbox=[-103.01106517317754,54.915193167235394,-102.99851132434331,54.92242167192495],start_date=\"2002-01-01\",end_date=\"2021-12-31\",output_folder=test_dir,config=get_rs_data.get_config()))\n",
    "    print(len(os.listdir(test_dir)))\n",
    "    x=False\n",
    "    for folder,subfolders,files in os.walk(test_dir):\n",
    "        for f in files:\n",
    "            if f.endswith(\".json\"):\n",
    "                x=True\n",
    "                break\n",
    "    shutil.rmtree(test_dir, ignore_errors=False, onerror=None)\n",
    "    assert x==True\n",
    "test_mock_check_file_type_json_NDVI()"
   ]
  },
  {
   "cell_type": "code",
   "execution_count": 110,
   "metadata": {},
   "outputs": [
    {
     "name": "stdout",
     "output_type": "stream",
     "text": [
      "/tmp/save_databusv9tf9\n",
      "539\n"
     ]
    }
   ],
   "source": [
    "def test_mock_check_file_type_tiff_NDVI():\n",
    "    test_dir=tempfile.mkdtemp(prefix=\"save_data\")\n",
    "    print(test_dir)\n",
    "    get_rs_data.save_sh_LETM2_data(get_rs_data.save_LETM2_data(layer='NDTI',bbox=[-103.01106517317754,54.915193167235394,-102.99851132434331,54.92242167192495],start_date=\"2002-01-01\",end_date=\"2021-12-31\",output_folder=test_dir,config=get_rs_data.get_config()))\n",
    "    print(len(os.listdir(test_dir)))\n",
    "    x=False\n",
    "    for folder,subfolders,files in os.walk(test_dir):\n",
    "        for f in files:\n",
    "            if f.endswith(\".tiff\"):\n",
    "                x=True\n",
    "                break\n",
    "    shutil.rmtree(test_dir, ignore_errors=False, onerror=None)\n",
    "    assert x==True\n",
    "test_mock_check_file_type_tiff_NDVI()"
   ]
  },
  {
   "cell_type": "markdown",
   "metadata": {},
   "source": [
    "#### Function to extract date from url"
   ]
  },
  {
   "cell_type": "code",
   "execution_count": 133,
   "metadata": {},
   "outputs": [],
   "source": [
    "def get_date_url(url):\n",
    "    date_regex=r\"(\\d{4}-\\d{2}-\\d{2})\"\n",
    "    ar_date=re.search(r\"TIME=\" + date_regex, url).group(1)\n",
    "    ar_date=dt.datetime.strptime(ar_date,'%Y-%m-%d')\n",
    "    return ar_date"
   ]
  },
  {
   "cell_type": "markdown",
   "metadata": {},
   "source": [
    "#### Function to get list of dates from saved data json files\n"
   ]
  },
  {
   "cell_type": "code",
   "execution_count": 138,
   "metadata": {},
   "outputs": [],
   "source": [
    "def list_date(dir):\n",
    "    ar_date_url=[]\n",
    "    for folder,subfolders,files in os.walk(dir):\n",
    "        for f in files:\n",
    "            if f.endswith(\".json\"):\n",
    "                name=folder+\"/request.json\"\n",
    "                h=open(name)\n",
    "                data=json.load(h)\n",
    "                url=data[\"url\"]\n",
    "                ar_date=get_date_url(url)\n",
    "                ar_date_url.append(ar_date)\n",
    "    ar_date_url.sort()\n",
    "    diff=[(t - s).days for s, t in zip(ar_date_url, ar_date_url[1:])]\n",
    "    return diff,ar_date_url"
   ]
  },
  {
   "cell_type": "markdown",
   "metadata": {},
   "source": [
    "#### Function to generate random start and end date "
   ]
  },
  {
   "cell_type": "code",
   "execution_count": 195,
   "metadata": {},
   "outputs": [],
   "source": [
    "from faker import Faker\n",
    "fake=Faker()\n",
    "def random_st_en():\n",
    "    start_date=fake.date_time_between(start_date=dt.date(2002,1,1),end_date=dt.date(2014,12,31))\n",
    "    start_date=start_date.date()\n",
    "    end_date=fake.date_time_between(start_date=dt.date(2016,1,1),end_date=dt.date(2021,12,31))\n",
    "    end_date=end_date.date()\n",
    "    return start_date,end_date"
   ]
  },
  {
   "cell_type": "code",
   "execution_count": 187,
   "metadata": {},
   "outputs": [],
   "source": [
    "def test_save_data_period_NDTI():\n",
    "    test_dir=tempfile.mkdtemp(prefix=\"save_data\")\n",
    "    start_date,end_date=random_st_en()\n",
    "    get_rs_data.save_data_for_periods(start_dates=[str(start_date)],end_dates=[str(end_date)],layer=\"NDTI\",bbox=[-103.01106517317754,54.915193167235394,-102.99851132434331,54.92242167192495],output_folder=test_dir,config=get_rs_data.get_config())\n",
    "    diff,ar_date=list_date(test_dir)\n",
    "    shutil.rmtree(test_dir, ignore_errors=False, onerror=None)\n",
    "    assert min(ar_date).date()>=start_date and min(ar_date).date()<=end_date\n",
    "test_save_data_period_NDTI()"
   ]
  },
  {
   "cell_type": "code",
   "execution_count": 210,
   "metadata": {},
   "outputs": [
    {
     "name": "stdout",
     "output_type": "stream",
     "text": [
      "2005-08-06 2018-08-27\n"
     ]
    }
   ],
   "source": [
    "def test_save_data_period_NDVI():\n",
    "    test_dir=tempfile.mkdtemp(prefix=\"save_data\")\n",
    "    start_date,end_date=random_st_en()\n",
    "    print(start_date,end_date)\n",
    "    get_rs_data.save_data_for_periods(start_dates=[str(start_date)],end_dates=[str(end_date)],layer=\"NDVI\",bbox=[-103.01106517317754,54.915193167235394,-102.99851132434331,54.92242167192495],output_folder=test_dir,config=get_rs_data.get_config())\n",
    "    diff,ar_date=list_date(test_dir)\n",
    "    shutil.rmtree(test_dir, ignore_errors=False, onerror=None)\n",
    "    assert min(ar_date).date()>=start_date and min(ar_date).date()<=end_date\n",
    "test_save_data_period_NDVI()"
   ]
  },
  {
   "cell_type": "code",
   "execution_count": 206,
   "metadata": {},
   "outputs": [],
   "source": [
    "def test_save_data_param():\n",
    "    assert inspect.getfullargspec(get_rs_data.save_data_for_periods).args==['start_dates', 'end_dates', 'layer', 'bbox', 'output_folder', 'config']\n",
    "test_save_data_param()"
   ]
  },
  {
   "cell_type": "markdown",
   "metadata": {},
   "source": [
    "This part of the notebook is for self exploration work and will be removed later\n"
   ]
  },
  {
   "cell_type": "code",
   "execution_count": 139,
   "metadata": {},
   "outputs": [],
   "source": [
    "diff,ar_date_url=list_date('/home/ahnaf.ryan/datascience work/sask_ndti_analysis/sask_ndti_analysis/save_data')"
   ]
  },
  {
   "cell_type": "code",
   "execution_count": 146,
   "metadata": {},
   "outputs": [
    {
     "data": {
      "text/plain": [
       "Text(0.5, 0, 'Difference between Sorted Acquisition Dates for Period 2002-01-01 to 2021-12-31')"
      ]
     },
     "execution_count": 146,
     "metadata": {},
     "output_type": "execute_result"
    },
    {
     "data": {
      "image/png": "[encoded data removed]",
      "text/plain": [
       "<Figure size 1440x648 with 1 Axes>"
      ]
     },
     "metadata": {
      "needs_background": "light"
     },
     "output_type": "display_data"
    }
   ],
   "source": [
    "fig, ax = plt.subplots(figsize =(20, 9))\n",
    "plt.hist(diff,density=False)\n",
    "plt.ylabel(\"Counts\")\n",
    "plt.xlabel(\"Difference between Sorted Acquisition Dates for Period 2002-01-01 to 2021-12-31\")"
   ]
  },
  {
   "cell_type": "code",
   "execution_count": null,
   "metadata": {},
   "outputs": [],
   "source": [
    "## do latin cube sampling "
   ]
  },
  {
   "cell_type": "code",
   "execution_count": 2,
   "metadata": {},
   "outputs": [],
   "source": [
    "gdf=gpd.read_file(\"/home/ahnaf.ryan/data_download/SaskGrid_2015_QUARTERSECTION/SaskGrid_2015_QUARTERSECTION.shp\")"
   ]
  },
  {
   "cell_type": "code",
   "execution_count": 3,
   "metadata": {},
   "outputs": [
    {
     "data": {
      "text/plain": [
       "991006"
      ]
     },
     "execution_count": 3,
     "metadata": {},
     "output_type": "execute_result"
    }
   ],
   "source": [
    "len(gdf)"
   ]
  }
 ],
 "metadata": {
  "interpreter": {
   "hash": "9ab312616194529ee1a713b266ff317ee116eb04de1832c927cdde9faaa17552"
  },
  "kernelspec": {
   "display_name": "Python 3.9.12 ('myenv': venv)",
   "language": "python",
   "name": "python3"
  },
  "language_info": {
   "codemirror_mode": {
    "name": "ipython",
    "version": 3
   },
   "file_extension": ".py",
   "mimetype": "text/x-python",
   "name": "python",
   "nbconvert_exporter": "python",
   "pygments_lexer": "ipython3",
   "version": "3.9.12"
  },
  "orig_nbformat": 4
 },
 "nbformat": 4,
 "nbformat_minor": 2
}
