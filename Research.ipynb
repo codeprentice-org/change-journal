{
 "cells": [
  {
   "cell_type": "markdown",
   "metadata": {},
   "source": [
    "This document/file highlights the research for understanding the soil texture, climate, temperature and precitipation & Evapotranspiration of Saskatchewan. "
   ]
  },
  {
   "cell_type": "markdown",
   "metadata": {},
   "source": [
    "### Soil Texture of Saskatchewan"
   ]
  },
  {
   "cell_type": "markdown",
   "metadata": {},
   "source": []
  },
  {
   "cell_type": "markdown",
   "metadata": {},
   "source": [
    "SmartGrid- how is data science used? Ontario smart metering system"
   ]
  },
  {
   "cell_type": "markdown",
   "metadata": {},
   "source": [
    "120 million records daily- how much data"
   ]
  },
  {
   "cell_type": "markdown",
   "metadata": {},
   "source": [
    "Demand for electricity, facing challenges in terms of planning, "
   ]
  },
  {
   "cell_type": "markdown",
   "metadata": {},
   "source": [
    "concept of smarter grid- smart metering data"
   ]
  },
  {
   "cell_type": "markdown",
   "metadata": {},
   "source": [
    "forecasting demand, not very sensitive to covid-19 ,provide analytics to government for implementation changes"
   ]
  },
  {
   "cell_type": "markdown",
   "metadata": {},
   "source": [
    "good data governance-> modern data architecture -> sustainable operating model\n",
    "framework important to talk business and it guys together"
   ]
  },
  {
   "cell_type": "markdown",
   "metadata": {},
   "source": [
    "Test the right things\n",
    "1."
   ]
  }
 ],
 "metadata": {
  "language_info": {
   "name": "python"
  },
  "orig_nbformat": 4
 },
 "nbformat": 4,
 "nbformat_minor": 2
}
